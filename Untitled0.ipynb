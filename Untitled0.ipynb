{
  "nbformat": 4,
  "nbformat_minor": 0,
  "metadata": {
    "colab": {
      "name": "Untitled0.ipynb",
      "provenance": [],
      "collapsed_sections": [],
      "authorship_tag": "ABX9TyOmnzOTdFOJ8Uh6U3ZGvv5W",
      "include_colab_link": true
    },
    "kernelspec": {
      "name": "python3",
      "display_name": "Python 3"
    },
    "language_info": {
      "name": "python"
    }
  },
  "cells": [
    {
      "cell_type": "markdown",
      "metadata": {
        "id": "view-in-github",
        "colab_type": "text"
      },
      "source": [
        "<a href=\"https://colab.research.google.com/github/kianbb/hello-world/blob/master/Untitled0.ipynb\" target=\"_parent\"><img src=\"https://colab.research.google.com/assets/colab-badge.svg\" alt=\"Open In Colab\"/></a>"
      ]
    },
    {
      "cell_type": "code",
      "metadata": {
        "id": "uHiOGtrghiXi"
      },
      "source": [
        ""
      ],
      "execution_count": null,
      "outputs": []
    },
    {
      "cell_type": "markdown",
      "metadata": {
        "id": "CxO0JXN8hlEg"
      },
      "source": [
        "$$ \\max c^T x $$\n",
        "s.t.\n",
        "$$ Ax <= b $$\n",
        "$$ x  \\in (0,1)^n $$\n",
        "%pip install -i https://pypi.gurobi.com gurobipy\n",
        "\n",
        "%pip install -i https://pypi.gurobi.com gurobipy\n",
        "\n",
        "# New Section"
      ]
    },
    {
      "cell_type": "code",
      "metadata": {
        "colab": {
          "base_uri": "https://localhost:8080/"
        },
        "id": "kFkFRE6cjMw3",
        "outputId": "42e9eac4-8e14-4e71-a819-99314492a66b"
      },
      "source": [
        "%pip install -i https://pypi.gurobi.com gurobipy\n"
      ],
      "execution_count": 1,
      "outputs": [
        {
          "output_type": "stream",
          "text": [
            "Looking in indexes: https://pypi.gurobi.com\n",
            "Collecting gurobipy\n",
            "  Downloading gurobipy-9.1.2-cp37-cp37m-manylinux1_x86_64.whl (11.1 MB)\n",
            "\u001b[K     |████████████████████████████████| 11.1 MB 4.5 MB/s \n",
            "\u001b[?25hInstalling collected packages: gurobipy\n",
            "Successfully installed gurobipy-9.1.2\n"
          ],
          "name": "stdout"
        }
      ]
    },
    {
      "cell_type": "code",
      "metadata": {
        "id": "gl9kYcHSjZvD"
      },
      "source": [
        "import gurobipy as gp\n",
        "from gurobipy import GRB"
      ],
      "execution_count": 2,
      "outputs": []
    },
    {
      "cell_type": "code",
      "metadata": {
        "colab": {
          "base_uri": "https://localhost:8080/"
        },
        "id": "QkdwqD-Lkk_-",
        "outputId": "72f769de-87aa-40ef-a7af-401f031753d5"
      },
      "source": [
        "m = gp.Model(\"whatever\") #initialize the model"
      ],
      "execution_count": 5,
      "outputs": [
        {
          "output_type": "stream",
          "text": [
            "Restricted license - for non-production use only - expires 2022-01-13\n"
          ],
          "name": "stdout"
        }
      ]
    },
    {
      "cell_type": "code",
      "metadata": {
        "colab": {
          "base_uri": "https://localhost:8080/"
        },
        "id": "arZcEhXrjzrl",
        "outputId": "07c916f0-7f5a-4ab1-eee8-eb417f2203b1"
      },
      "source": [
        "m = gp.Model(\"whatever\") #initialize the model\n",
        "\n",
        "x1 = m.addVar(vtype = GRB.BINARY, name= \"x1\")\n",
        "x2 = m.addVar(vtype = GRB.BINARY, name= \"x2\")\n",
        "x3 = m.addVar(vtype = GRB.BINARY, name= \"x3\")\n",
        "x4 = m.addVar(vtype = GRB.BINARY, name= \"x4\")\n",
        "x5 = m.addVar(vtype = GRB.BINARY, name= \"x5\")\n",
        "# This was defining the variables\n",
        "\n",
        "#now setting the objective\n",
        "m.setObjective(4*x1 + 2*x2 + 2*x3 + 1*x4 + 10*x5, GRB.MAXIMIZE)\n",
        "m.addConstr(12*x1 + 2*x2 + 1*x3 + 1*x4 + 4*x5 <=15)\n"
      ],
      "execution_count": 12,
      "outputs": [
        {
          "output_type": "execute_result",
          "data": {
            "text/plain": [
              "<gurobi.Constr *Awaiting Model Update*>"
            ]
          },
          "metadata": {},
          "execution_count": 12
        }
      ]
    },
    {
      "cell_type": "code",
      "metadata": {
        "colab": {
          "base_uri": "https://localhost:8080/"
        },
        "id": "HZcfWiezlZkd",
        "outputId": "4e81f24d-307c-41de-dbff-0d32dc8b8799"
      },
      "source": [
        "m.optimize()"
      ],
      "execution_count": 15,
      "outputs": [
        {
          "output_type": "stream",
          "text": [
            "Gurobi Optimizer version 9.1.2 build v9.1.2rc0 (linux64)\n",
            "Thread count: 1 physical cores, 2 logical processors, using up to 2 threads\n",
            "Optimize a model with 1 rows, 5 columns and 5 nonzeros\n",
            "Model fingerprint: 0xed9b9374\n",
            "Variable types: 0 continuous, 5 integer (5 binary)\n",
            "Coefficient statistics:\n",
            "  Matrix range     [1e+00, 1e+01]\n",
            "  Objective range  [1e+00, 1e+01]\n",
            "  Bounds range     [1e+00, 1e+00]\n",
            "  RHS range        [2e+01, 2e+01]\n",
            "Found heuristic solution: objective 8.0000000\n",
            "Presolve removed 1 rows and 5 columns\n",
            "Presolve time: 0.00s\n",
            "Presolve: All rows and columns removed\n",
            "\n",
            "Explored 0 nodes (0 simplex iterations) in 0.02 seconds\n",
            "Thread count was 1 (of 2 available processors)\n",
            "\n",
            "Solution count 2: 15 8 \n",
            "\n",
            "Optimal solution found (tolerance 1.00e-04)\n",
            "Best objective 1.500000000000e+01, best bound 1.500000000000e+01, gap 0.0000%\n"
          ],
          "name": "stdout"
        }
      ]
    },
    {
      "cell_type": "code",
      "metadata": {
        "colab": {
          "base_uri": "https://localhost:8080/"
        },
        "id": "xHxIIRSAlyrZ",
        "outputId": "c125845e-688b-4a99-b00c-1e5af701ff67"
      },
      "source": [
        "for t in m.getVars():\n",
        "  print(t.x)"
      ],
      "execution_count": 16,
      "outputs": [
        {
          "output_type": "stream",
          "text": [
            "0.0\n",
            "1.0\n",
            "1.0\n",
            "1.0\n",
            "1.0\n"
          ],
          "name": "stdout"
        }
      ]
    }
  ]
}